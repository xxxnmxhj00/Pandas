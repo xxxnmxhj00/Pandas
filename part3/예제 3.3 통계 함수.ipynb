{
 "cells": [
  {
   "cell_type": "code",
   "execution_count": 21,
   "id": "39c3c104-e123-41ea-be64-d2e90bce5203",
   "metadata": {},
   "outputs": [],
   "source": [
    "# 평균값 \n",
    "# 모든 열의 평균값 : DataFrame 객체.mean()\n",
    "# 특정 열의 평균값 : DataFrmae 객체['열 이름'].mean()"
   ]
  },
  {
   "cell_type": "code",
   "execution_count": 23,
   "id": "afaec028-81ba-4d44-b2f1-a79db1e0facb",
   "metadata": {},
   "outputs": [],
   "source": [
    "# df.mean(numeric_only = True) 명령을 사용하여 산술 데이터를 가진 7개 열에 대한 각각의 평균값을 계산\n",
    "# 데이터프레임에 산술 데이터가 아닌 문자열 데이터를 가진 열이 있기 때문에 numeric_only = True를 적용하지 않으면 타입에러가 발생"
   ]
  },
  {
   "cell_type": "code",
   "execution_count": 25,
   "id": "3f73f224-9248-423c-bcb7-4f3b819c5667",
   "metadata": {},
   "outputs": [
    {
     "name": "stdout",
     "output_type": "stream",
     "text": [
      "mpg               23.514573\n",
      "cylinders          5.454774\n",
      "displacement     193.425879\n",
      "weight          2970.424623\n",
      "acceleration      15.568090\n",
      "model year        76.010050\n",
      "origin             1.572864\n",
      "dtype: float64\n",
      "\n",
      "\n",
      "23.514572864321607\n",
      "23.514572864321607\n",
      "\n",
      "\n",
      "mpg         23.514573\n",
      "weight    2970.424623\n",
      "dtype: float64\n"
     ]
    }
   ],
   "source": [
    "import pandas as pd\n",
    "\n",
    "df = pd.read_csv('./data/auto-mpg.csv', header = None)\n",
    "\n",
    "# 열 이름을 지정\n",
    "df.columns = ['mpg','cylinders','displacement','horsepower','weight',\n",
    "              'acceleration','model year','origin','name']\n",
    "# 평균값\n",
    "\n",
    "print(df.mean(numeric_only = True))\n",
    "print('\\n')\n",
    "print(df['mpg'].mean())\n",
    "print(df.mpg.mean())\n",
    "print('\\n')\n",
    "print(df[['mpg','weight']].mean())"
   ]
  },
  {
   "cell_type": "code",
   "execution_count": 27,
   "id": "209ca53f-6756-4a57-817d-214f00b53474",
   "metadata": {},
   "outputs": [],
   "source": [
    "# 중앙값\n",
    "# 모든 열의 중앙값 : DataFrame 객체.median()\n",
    "# 특정 열의 중앙값 : DataFrame 객체['열 이름'].median()"
   ]
  },
  {
   "cell_type": "code",
   "execution_count": 29,
   "id": "6f02bd45-fec9-4667-a9a1-65d02fb18fca",
   "metadata": {},
   "outputs": [
    {
     "name": "stdout",
     "output_type": "stream",
     "text": [
      "mpg               23.0\n",
      "cylinders          4.0\n",
      "displacement     148.5\n",
      "weight          2803.5\n",
      "acceleration      15.5\n",
      "model year        76.0\n",
      "origin             1.0\n",
      "dtype: float64\n",
      "\n",
      "\n",
      "23.0\n"
     ]
    }
   ],
   "source": [
    "print(df.median(numeric_only = True))\n",
    "print('\\n')\n",
    "print(df['mpg'].median())"
   ]
  },
  {
   "cell_type": "code",
   "execution_count": 31,
   "id": "059a419e-45e3-4b78-a67f-9a0bd9532898",
   "metadata": {},
   "outputs": [],
   "source": [
    "# 최댓값\n",
    "# 모든 열의 최댓값 : DataFrame 객체.max()\n",
    "# 특정 열의 최댓값 : DataFrame 객체['열 이름'].max()"
   ]
  },
  {
   "cell_type": "code",
   "execution_count": 33,
   "id": "a7447cf2-24bc-4b0f-88c9-109055016100",
   "metadata": {},
   "outputs": [
    {
     "name": "stdout",
     "output_type": "stream",
     "text": [
      "mpg               46.6\n",
      "cylinders          8.0\n",
      "displacement     455.0\n",
      "weight          5140.0\n",
      "acceleration      24.8\n",
      "model year        82.0\n",
      "origin             3.0\n",
      "dtype: float64\n",
      "\n",
      "\n",
      "46.6\n"
     ]
    }
   ],
   "source": [
    "print(df.max(numeric_only = True))\n",
    "print('\\n')\n",
    "print(df['mpg'].max())"
   ]
  },
  {
   "cell_type": "code",
   "execution_count": 35,
   "id": "746d05f2-a9d5-4716-bd1b-45fc4f257319",
   "metadata": {},
   "outputs": [],
   "source": [
    "# 최솟값"
   ]
  },
  {
   "cell_type": "code",
   "execution_count": 37,
   "id": "a41e0234-5379-4dd0-9839-24ea3761b19e",
   "metadata": {},
   "outputs": [
    {
     "name": "stdout",
     "output_type": "stream",
     "text": [
      "mpg                9.0\n",
      "cylinders          3.0\n",
      "displacement      68.0\n",
      "weight          1613.0\n",
      "acceleration       8.0\n",
      "model year        70.0\n",
      "origin             1.0\n",
      "dtype: float64\n",
      "\n",
      "\n",
      "9.0\n"
     ]
    }
   ],
   "source": [
    "print(df.min(numeric_only = True))\n",
    "print('\\n')\n",
    "print(df['mpg'].min())"
   ]
  },
  {
   "cell_type": "code",
   "execution_count": 39,
   "id": "333b0ca0-6cab-40a0-a8a0-4ba7697f00c5",
   "metadata": {},
   "outputs": [],
   "source": [
    "# 표준편차\n",
    "# 모든 열의 표준편차 : DataFrame 객체.std()\n",
    "# 특정 열의 표준편차 : DataFrame 객체['열 이름'].std()"
   ]
  },
  {
   "cell_type": "code",
   "execution_count": 41,
   "id": "f12f1575-7147-4c38-a911-d839483d6393",
   "metadata": {},
   "outputs": [
    {
     "name": "stdout",
     "output_type": "stream",
     "text": [
      "mpg               7.815984\n",
      "cylinders         1.701004\n",
      "displacement    104.269838\n",
      "weight          846.841774\n",
      "acceleration      2.757689\n",
      "model year        3.697627\n",
      "origin            0.802055\n",
      "dtype: float64\n",
      "\n",
      "\n",
      "7.815984312565782\n"
     ]
    }
   ],
   "source": [
    "print(df.std(numeric_only = True))\n",
    "print('\\n')\n",
    "print(df['mpg'].std())"
   ]
  },
  {
   "cell_type": "code",
   "execution_count": 43,
   "id": "b837299f-17a3-4aa2-8278-9b1fcf68aade",
   "metadata": {},
   "outputs": [],
   "source": [
    "# 상관계수\n",
    "# 모든 열의 상관계수 : DataFrame 객체.corr()\n",
    "# 특정 열의 상관계수 : DataFrame 객체['열 이름의 리스트'].corr()"
   ]
  },
  {
   "cell_type": "code",
   "execution_count": 47,
   "id": "03cb6d57-09f5-4268-89b7-f038468855f2",
   "metadata": {},
   "outputs": [
    {
     "name": "stdout",
     "output_type": "stream",
     "text": [
      "                   mpg  cylinders  displacement    weight  acceleration  \\\n",
      "mpg           1.000000  -0.775396     -0.804203 -0.831741      0.420289   \n",
      "cylinders    -0.775396   1.000000      0.950721  0.896017     -0.505419   \n",
      "displacement -0.804203   0.950721      1.000000  0.932824     -0.543684   \n",
      "weight       -0.831741   0.896017      0.932824  1.000000     -0.417457   \n",
      "acceleration  0.420289  -0.505419     -0.543684 -0.417457      1.000000   \n",
      "model year    0.579267  -0.348746     -0.370164 -0.306564      0.288137   \n",
      "origin        0.563450  -0.562543     -0.609409 -0.581024      0.205873   \n",
      "\n",
      "              model year    origin  \n",
      "mpg             0.579267  0.563450  \n",
      "cylinders      -0.348746 -0.562543  \n",
      "displacement   -0.370164 -0.609409  \n",
      "weight         -0.306564 -0.581024  \n",
      "acceleration    0.288137  0.205873  \n",
      "model year      1.000000  0.180662  \n",
      "origin          0.180662  1.000000  \n",
      "\n",
      "\n",
      "             mpg    weight\n",
      "mpg     1.000000 -0.831741\n",
      "weight -0.831741  1.000000\n"
     ]
    }
   ],
   "source": [
    "print(df.corr(numeric_only = True))\n",
    "print('\\n')\n",
    "print(df[['mpg','weight']].corr())"
   ]
  },
  {
   "cell_type": "code",
   "execution_count": null,
   "id": "cc6eb268-28c2-459e-bdf5-d68473aa7b0e",
   "metadata": {},
   "outputs": [],
   "source": []
  }
 ],
 "metadata": {
  "kernelspec": {
   "display_name": "Python 3 (ipykernel)",
   "language": "python",
   "name": "python3"
  },
  "language_info": {
   "codemirror_mode": {
    "name": "ipython",
    "version": 3
   },
   "file_extension": ".py",
   "mimetype": "text/x-python",
   "name": "python",
   "nbconvert_exporter": "python",
   "pygments_lexer": "ipython3",
   "version": "3.12.4"
  }
 },
 "nbformat": 4,
 "nbformat_minor": 5
}
