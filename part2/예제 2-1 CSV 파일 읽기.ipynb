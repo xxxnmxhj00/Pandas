{
 "cells": [
  {
   "cell_type": "code",
   "execution_count": 1,
   "id": "5d2e21ec-9596-4d46-af94-35005e821d93",
   "metadata": {},
   "outputs": [],
   "source": [
    "# read_csv() 함수의 header 옵션은 데이터프레임의 열 이름으로 사용할 행을 지정\n",
    "# header = 0, 기본 값 0행을 열 지정\n",
    "# header = None, 행을 열 지정하지 않음"
   ]
  },
  {
   "cell_type": "code",
   "execution_count": 3,
   "id": "c4d9bdfa-b484-41fa-bc4f-30268eecd4c8",
   "metadata": {},
   "outputs": [],
   "source": [
    "# index_col = False, 인덱스 지정하지 않음\n",
    "# index_col = 'c0', 'c0' 열을 인덱스 지정"
   ]
  },
  {
   "cell_type": "code",
   "execution_count": 11,
   "id": "6e005934-bac0-469e-bb45-ae8ff1c35e8a",
   "metadata": {},
   "outputs": [
    {
     "data": {
      "text/plain": [
       "['.ipynb_checkpoints',\n",
       " 'df_excelwriter.xlsx',\n",
       " 'df_sample.csv',\n",
       " 'df_sample.json',\n",
       " 'df_sample.xlsx',\n",
       " 'read_csv_sample.csv',\n",
       " 'read_json_sample.json',\n",
       " 'sample.html',\n",
       " '남북한발전전력량.xlsx']"
      ]
     },
     "execution_count": 11,
     "metadata": {},
     "output_type": "execute_result"
    }
   ],
   "source": [
    "# 라이브러리 불러오기\n",
    "import pandas as pd\n",
    "\n",
    "# 경로 폴더의 모든 파일 목록 확인하기\n",
    "import os\n",
    "os.listdir(\"./data\")"
   ]
  },
  {
   "cell_type": "code",
   "execution_count": 17,
   "id": "7b9041ce-fe6d-4fed-9a50-2ac0097aaf0d",
   "metadata": {},
   "outputs": [
    {
     "name": "stdout",
     "output_type": "stream",
     "text": [
      "./data/read_csv_sample.csv\n",
      "data\\read_csv_sample.csv\n"
     ]
    }
   ],
   "source": [
    "file_path = './data/read_csv_sample.csv' # 직접 경로를 문자열로 입력하고 file_path 변수에 저장\n",
    "print(file_path)\n",
    "\n",
    "# 파일 경로를 찾고, 변수 file_path에 저장\n",
    "file_path2 = os.path.join('data','read_csv_sample.csv')\n",
    "\n",
    "print(file_path2)"
   ]
  },
  {
   "cell_type": "code",
   "execution_count": 19,
   "id": "fe46b7fd-d687-4152-87d2-f95761e5cefa",
   "metadata": {},
   "outputs": [],
   "source": [
    "# unix/linux 시스템은 /를, 윈도우는 \\를 경로 구분자로 사용 "
   ]
  },
  {
   "cell_type": "code",
   "execution_count": 27,
   "id": "60253ce2-d221-4932-98bc-a5a3c90f2cce",
   "metadata": {},
   "outputs": [
    {
     "name": "stdout",
     "output_type": "stream",
     "text": [
      "   c0  c1  c2  c3\n",
      "0   0   1   4   7\n",
      "1   1   2   5   8\n",
      "2   2   3   6   9\n",
      "    0   1   2   3\n",
      "0  c0  c1  c2  c3\n",
      "1   0   1   4   7\n",
      "2   1   2   5   8\n",
      "3   2   3   6   9\n",
      "   c0  c1  c2  c3\n",
      "0   0   1   4   7\n",
      "1   1   2   5   8\n",
      "2   2   3   6   9\n",
      "    c1  c2  c3\n",
      "c0            \n",
      "0    1   4   7\n",
      "1    2   5   8\n",
      "2    3   6   9\n"
     ]
    }
   ],
   "source": [
    "df1 = pd.read_csv(file_path)\n",
    "print(df1)\n",
    "\n",
    "df2 = pd.read_csv(file_path, header = None)\n",
    "print(df2)\n",
    "\n",
    "df3 = pd.read_csv(file_path, index_col = None)\n",
    "print(df3)\n",
    "\n",
    "df4 = pd.read_csv(file_path, index_col = 'c0')\n",
    "print(df4)"
   ]
  },
  {
   "cell_type": "code",
   "execution_count": null,
   "id": "89ed5f9c-fc27-4dfb-9f2a-9fbc89d6f709",
   "metadata": {},
   "outputs": [],
   "source": []
  }
 ],
 "metadata": {
  "kernelspec": {
   "display_name": "Python 3 (ipykernel)",
   "language": "python",
   "name": "python3"
  },
  "language_info": {
   "codemirror_mode": {
    "name": "ipython",
    "version": 3
   },
   "file_extension": ".py",
   "mimetype": "text/x-python",
   "name": "python",
   "nbconvert_exporter": "python",
   "pygments_lexer": "ipython3",
   "version": "3.12.4"
  }
 },
 "nbformat": 4,
 "nbformat_minor": 5
}
