{
 "cells": [
  {
   "cell_type": "code",
   "execution_count": 1,
   "id": "b5c6da10-1bde-4a7b-83d1-d84d950514c4",
   "metadata": {},
   "outputs": [],
   "source": [
    "# 여러 개의 데이터 프레임을 하나의 Excel 파일로 저장"
   ]
  },
  {
   "cell_type": "code",
   "execution_count": 3,
   "id": "6d50ce9a-909e-4018-8aee-25b53fb75b4b",
   "metadata": {},
   "outputs": [],
   "source": [
    "# ExcelWriter() 함수는 Excel 워크북 객체를 새엇ㅇ\n",
    "#"
   ]
  },
  {
   "cell_type": "code",
   "execution_count": 7,
   "id": "3517389d-7fd1-48e7-a026-5f81f2fc7b8a",
   "metadata": {},
   "outputs": [
    {
     "name": "stdout",
     "output_type": "stream",
     "text": [
      "      algol basic c++\n",
      "name                 \n",
      "Jerry     A     C  B+\n",
      "Riah     A+     B   C\n",
      "Paul      B    B+  C+\n",
      "\n",
      "\n",
      "    c1  c2  c3  c4\n",
      "c0                \n",
      "1    4   7  10  13\n",
      "2    5   8  11  14\n",
      "3    6   9  12  15\n"
     ]
    }
   ],
   "source": [
    "import pandas as pd\n",
    "\n",
    "data1 = {'name' : ['Jerry', 'Riah', 'Paul'],\n",
    "        'algol' : ['A', 'A+', 'B'],\n",
    "        'basic' : ['C', 'B', 'B+'],\n",
    "        'c++' : ['B+','C','C+']}\n",
    "\n",
    "data2 = {'c0' : [1,2,3],\n",
    "         'c1' : [4,5,6],\n",
    "         'c2' : [7,8,9],\n",
    "         'c3' : [10,11,12],\n",
    "         'c4' : [13,14,15]}\n",
    "\n",
    "df1 = pd.DataFrame(data1)\n",
    "df1 = df1.set_index('name')\n",
    "print(df1)\n",
    "print('\\n')\n",
    "\n",
    "df2 = pd.DataFrame(data2)\n",
    "df2 = df2.set_index('c0')\n",
    "print(df2)\n",
    "\n",
    "# df1을 'sheet1'으로 df2를 'sheet2'로 저장\n",
    "# with 구문을 사용하여 writer 변수에 저장하고 ./data/df_excelwriter.xlsx 파일 경로에 Excel 파일로 저장\n",
    "# df1 df2에 to_excel() 메소드를 적용하면서 sheet_name 옵션을 다르게 입력하여\n",
    "# writer 변수가 가리키는 Excel 파일의 서로 다른 시트에 각각 구분하여 삽입\n",
    "\n",
    "with pd.ExcelWriter('./data/df_excelwriter.xlsx') as writer:\n",
    "    df1.to_excel(writer, sheet_name = 'sheet1')\n",
    "    df2.to_excel(writer, sheet_name = 'sheet2')"
   ]
  },
  {
   "cell_type": "code",
   "execution_count": null,
   "id": "c7ecf746-4657-4bfa-b83d-a264944b386e",
   "metadata": {},
   "outputs": [],
   "source": []
  }
 ],
 "metadata": {
  "kernelspec": {
   "display_name": "Python 3 (ipykernel)",
   "language": "python",
   "name": "python3"
  },
  "language_info": {
   "codemirror_mode": {
    "name": "ipython",
    "version": 3
   },
   "file_extension": ".py",
   "mimetype": "text/x-python",
   "name": "python",
   "nbconvert_exporter": "python",
   "pygments_lexer": "ipython3",
   "version": "3.12.4"
  }
 },
 "nbformat": 4,
 "nbformat_minor": 5
}
