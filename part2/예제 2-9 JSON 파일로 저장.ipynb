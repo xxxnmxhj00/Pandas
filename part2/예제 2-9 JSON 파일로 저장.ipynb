{
 "cells": [
  {
   "cell_type": "code",
   "execution_count": 1,
   "id": "7d8e8586-3daa-4268-9fec-78e95c3fb1df",
   "metadata": {},
   "outputs": [],
   "source": [
    "import pandas as pd\n",
    "\n",
    "data = {'name' : ['Jerry', 'Riah', 'Paul'],\n",
    "        'algol' : ['A', 'A+', 'B'],\n",
    "        'basic' : ['C', 'B', 'B+'],\n",
    "        'c++' : ['B+','C','C+'],\n",
    "       }\n",
    "\n",
    "df = pd.DataFrame(data)\n",
    "df = df.set_index('name')\n",
    "\n",
    "df\n",
    "\n",
    "df.to_json('./data/df_sample.json')"
   ]
  },
  {
   "cell_type": "code",
   "execution_count": 3,
   "id": "23a6ac64-29a3-467f-a133-c36dcd7d43bf",
   "metadata": {},
   "outputs": [],
   "source": [
    "# orient = 'split' 옵션을 사용하면 json 일로 지정할 때 index columns data로 분리하여 저장\n",
    "df.to_json('./data/df_sample_split.json',orient ='split')\n",
    "\n",
    "# {\n",
    "# \"columns\":[\"algol\",\"basic\",\"c++\"],\n",
    "# \"index\":[\"Jerry\",\"Riah\",\"Paul\"],\n",
    "# \"data\":[[\"A\",\"C\",\"B+\"],[\"A+\",\"B\",\"C\"],[\"B\",\"B+\",\"C+\"]]\n",
    "#}"
   ]
  },
  {
   "cell_type": "code",
   "execution_count": 5,
   "id": "d2834508-c38e-495a-8185-ec2380fe4d61",
   "metadata": {},
   "outputs": [],
   "source": [
    "# 각 행을 별도의 JSON 객체(딕셔너리 형태)로 저장하며, 열 이름이 키로 사용, 이들 딕셔너리 형태의 객체들이 리스트 형태의 배열로 정리\n",
    "df.to_json('./data/df_sample_split.json',orient ='records')\n",
    "# [\n",
    "# {\"algol\":\"A\",\"basic\":\"C\",\"c++\":\"B+\"},\n",
    "# {\"algol\":\"A+\",\"basic\":\"B\",\"c++\":\"C\"},\n",
    "# {\"algol\":\"B\",\"basic\":\"B+\",\"c++\":\"C+\"}\n",
    "# ]"
   ]
  },
  {
   "cell_type": "code",
   "execution_count": 9,
   "id": "b338533c-d5bc-48fd-8bcd-ebf1f85fc633",
   "metadata": {},
   "outputs": [],
   "source": [
    "df.to_json('./data/df_sample_index.json',orient ='index')\n",
    "# {\n",
    "# \"Jerry\":{\"algol\":\"A\",\"basic\":\"C\",\"c++\":\"B+\"},\n",
    "# \"Riah\":{\"algol\":\"A+\",\"basic\":\"B\",\"c++\":\"C\"},\n",
    "# \"Paul\":{\"algol\":\"B\",\"basic\":\"B+\",\"c++\":\"C+\"}\n",
    "# }"
   ]
  },
  {
   "cell_type": "code",
   "execution_count": 11,
   "id": "7b7daf6c-b466-48b6-b151-c91ec167481b",
   "metadata": {},
   "outputs": [],
   "source": [
    "df.to_json('./data/df_sample_index.json',orient ='columns')\n"
   ]
  },
  {
   "cell_type": "code",
   "execution_count": 13,
   "id": "a26cc63a-138b-4a70-92cd-a22b878cdb4b",
   "metadata": {},
   "outputs": [],
   "source": [
    "df.to_json('./data/df_sample_index.json',orient ='values')\n"
   ]
  },
  {
   "cell_type": "code",
   "execution_count": null,
   "id": "e52c6329-019c-4662-b0a1-7164535c6626",
   "metadata": {},
   "outputs": [],
   "source": []
  }
 ],
 "metadata": {
  "kernelspec": {
   "display_name": "Python 3 (ipykernel)",
   "language": "python",
   "name": "python3"
  },
  "language_info": {
   "codemirror_mode": {
    "name": "ipython",
    "version": 3
   },
   "file_extension": ".py",
   "mimetype": "text/x-python",
   "name": "python",
   "nbconvert_exporter": "python",
   "pygments_lexer": "ipython3",
   "version": "3.12.4"
  }
 },
 "nbformat": 4,
 "nbformat_minor": 5
}
