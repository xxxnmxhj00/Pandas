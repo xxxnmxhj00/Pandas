{
 "cells": [
  {
   "cell_type": "code",
   "execution_count": 7,
   "id": "32c3d9d9-c2ca-44f5-afd8-dca65b5fc546",
   "metadata": {},
   "outputs": [],
   "source": [
    "import pandas as pd\n",
    "\n",
    "data = {'name' : ['Jerry', 'Riah', 'Paul'],\n",
    "        'algol' : ['A', 'A+', 'B'],\n",
    "        'basic' : ['C', 'B', 'B+'],\n",
    "        'c++' : ['B+','C','C+'],\n",
    "       }\n",
    "\n",
    "df = pd.DataFrame(data)\n",
    "df = df.set_index('name')\n",
    "\n",
    "df\n",
    "\n",
    "df.to_csv('./data/df_sample.csv')\n",
    "\n",
    "# index = False라서 데이터프레임의 행 인덱스인 'jerry','Riah','Paul' 값이 제외\n",
    "df.to_csv('./data/df_sample_no_index.csv',index = False)"
   ]
  },
  {
   "cell_type": "code",
   "execution_count": null,
   "id": "a27d1399-2c46-48e7-9bfe-43a3222caa7c",
   "metadata": {},
   "outputs": [],
   "source": []
  }
 ],
 "metadata": {
  "kernelspec": {
   "display_name": "Python 3 (ipykernel)",
   "language": "python",
   "name": "python3"
  },
  "language_info": {
   "codemirror_mode": {
    "name": "ipython",
    "version": 3
   },
   "file_extension": ".py",
   "mimetype": "text/x-python",
   "name": "python",
   "nbconvert_exporter": "python",
   "pygments_lexer": "ipython3",
   "version": "3.12.4"
  }
 },
 "nbformat": 4,
 "nbformat_minor": 5
}
