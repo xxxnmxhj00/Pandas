{
 "cells": [
  {
   "cell_type": "code",
   "execution_count": 1,
   "id": "f78b3fc3-b617-4671-815d-64e9bc710e51",
   "metadata": {},
   "outputs": [],
   "source": [
    "# 데이터프레임을 excel 파일로 저장할 때는 to_excel() 메소드 적용"
   ]
  },
  {
   "cell_type": "code",
   "execution_count": 3,
   "id": "774b80cf-0c27-45c8-9f2d-cf97b54254a3",
   "metadata": {},
   "outputs": [
    {
     "data": {
      "text/html": [
       "<div>\n",
       "<style scoped>\n",
       "    .dataframe tbody tr th:only-of-type {\n",
       "        vertical-align: middle;\n",
       "    }\n",
       "\n",
       "    .dataframe tbody tr th {\n",
       "        vertical-align: top;\n",
       "    }\n",
       "\n",
       "    .dataframe thead th {\n",
       "        text-align: right;\n",
       "    }\n",
       "</style>\n",
       "<table border=\"1\" class=\"dataframe\">\n",
       "  <thead>\n",
       "    <tr style=\"text-align: right;\">\n",
       "      <th></th>\n",
       "      <th>algol</th>\n",
       "      <th>basic</th>\n",
       "      <th>c++</th>\n",
       "    </tr>\n",
       "    <tr>\n",
       "      <th>name</th>\n",
       "      <th></th>\n",
       "      <th></th>\n",
       "      <th></th>\n",
       "    </tr>\n",
       "  </thead>\n",
       "  <tbody>\n",
       "    <tr>\n",
       "      <th>Jerry</th>\n",
       "      <td>A</td>\n",
       "      <td>C</td>\n",
       "      <td>B+</td>\n",
       "    </tr>\n",
       "    <tr>\n",
       "      <th>Riah</th>\n",
       "      <td>A+</td>\n",
       "      <td>B</td>\n",
       "      <td>C</td>\n",
       "    </tr>\n",
       "    <tr>\n",
       "      <th>Paul</th>\n",
       "      <td>B</td>\n",
       "      <td>B+</td>\n",
       "      <td>C+</td>\n",
       "    </tr>\n",
       "  </tbody>\n",
       "</table>\n",
       "</div>"
      ],
      "text/plain": [
       "      algol basic c++\n",
       "name                 \n",
       "Jerry     A     C  B+\n",
       "Riah     A+     B   C\n",
       "Paul      B    B+  C+"
      ]
     },
     "execution_count": 3,
     "metadata": {},
     "output_type": "execute_result"
    }
   ],
   "source": [
    "import pandas as pd\n",
    "\n",
    "data = {'name' : ['Jerry', 'Riah', 'Paul'],\n",
    "        'algol' : ['A', 'A+', 'B'],\n",
    "        'basic' : ['C', 'B', 'B+'],\n",
    "        'c++' : ['B+','C','C+'],\n",
    "       }\n",
    "\n",
    "df = pd.DataFrame(data)\n",
    "df = df.set_index('name')\n",
    "\n",
    "df"
   ]
  },
  {
   "cell_type": "code",
   "execution_count": 5,
   "id": "050ee05b-8c2f-48f0-b405-631898a39d44",
   "metadata": {},
   "outputs": [],
   "source": [
    "# to_excel() 함수를 사용하여 Excel 파일로 내보내기, 파일명은 밑에처럼\n",
    "# 이때 행 인덱스에 name 값들이 포함되게 됨 \n",
    "df.to_excel('./data/df_sample.xlsx')"
   ]
  },
  {
   "cell_type": "code",
   "execution_count": 7,
   "id": "bba60a29-4048-46d2-9513-d95235977b18",
   "metadata": {},
   "outputs": [],
   "source": [
    "# 데이터프레임을 Excel 파일로 저장할 때 데이터프레임의 행 인덱스를 포함할지 여부를 선택할 수 있음\n",
    "# index = False 옵션은 행 인덱스를 파일에 포함되지 않게 데이터만을 저장 \n",
    "# index = True 옵션은 행 인덱스를 포함하여 저장한다"
   ]
  },
  {
   "cell_type": "code",
   "execution_count": 9,
   "id": "9bba9bbb-543d-4e55-afd3-3e194d56b42f",
   "metadata": {},
   "outputs": [],
   "source": [
    "df.to_excel('./data/df_sample_no_index.xlsx', index = False)"
   ]
  },
  {
   "cell_type": "code",
   "execution_count": null,
   "id": "0a825aa5-0907-4d45-bffe-0686c722dd79",
   "metadata": {},
   "outputs": [],
   "source": []
  }
 ],
 "metadata": {
  "kernelspec": {
   "display_name": "Python 3 (ipykernel)",
   "language": "python",
   "name": "python3"
  },
  "language_info": {
   "codemirror_mode": {
    "name": "ipython",
    "version": 3
   },
   "file_extension": ".py",
   "mimetype": "text/x-python",
   "name": "python",
   "nbconvert_exporter": "python",
   "pygments_lexer": "ipython3",
   "version": "3.12.4"
  }
 },
 "nbformat": 4,
 "nbformat_minor": 5
}
