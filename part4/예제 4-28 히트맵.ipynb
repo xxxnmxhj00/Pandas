{
 "cells": [
  {
   "cell_type": "code",
   "execution_count": null,
   "id": "8ff5ff4f-844b-4bc2-929b-4a517437b7d5",
   "metadata": {},
   "outputs": [],
   "source": [
    "# 히트맵, 데이터의 행렬 구조를 유지한 상태에서 행렬의 숫자 값을 색상의 진한 강도로 표현\n",
    "# 데이터의 패턴 변화 밀도 등을 한눈에 파악하는 데 유용\n",
    "# 상관관계 분석, 클러스터링 결과 시각화, 시간에 따른 변화의 흐름 등 다양한 데이터 분석 작업에서 활용됨"
   ]
  },
  {
   "cell_type": "code",
   "execution_count": 1,
   "id": "d6ebd207-204b-4cb2-b6dc-ffb33f3c3afd",
   "metadata": {},
   "outputs": [],
   "source": [
    "# 히트맵 구현을 위해 2개의 범주형 변수를 각각 x, y 축에 놓고 데이터를 행렬 형태로 재정리"
   ]
  },
  {
   "cell_type": "code",
   "execution_count": 3,
   "id": "c58478f4-0208-41bd-9db3-fadd0a0df288",
   "metadata": {},
   "outputs": [
    {
     "data": {
      "text/html": [
       "<div>\n",
       "<style scoped>\n",
       "    .dataframe tbody tr th:only-of-type {\n",
       "        vertical-align: middle;\n",
       "    }\n",
       "\n",
       "    .dataframe tbody tr th {\n",
       "        vertical-align: top;\n",
       "    }\n",
       "\n",
       "    .dataframe thead th {\n",
       "        text-align: right;\n",
       "    }\n",
       "</style>\n",
       "<table border=\"1\" class=\"dataframe\">\n",
       "  <thead>\n",
       "    <tr style=\"text-align: right;\">\n",
       "      <th>class</th>\n",
       "      <th>First</th>\n",
       "      <th>Second</th>\n",
       "      <th>Third</th>\n",
       "    </tr>\n",
       "    <tr>\n",
       "      <th>sex</th>\n",
       "      <th></th>\n",
       "      <th></th>\n",
       "      <th></th>\n",
       "    </tr>\n",
       "  </thead>\n",
       "  <tbody>\n",
       "    <tr>\n",
       "      <th>female</th>\n",
       "      <td>94</td>\n",
       "      <td>76</td>\n",
       "      <td>144</td>\n",
       "    </tr>\n",
       "    <tr>\n",
       "      <th>male</th>\n",
       "      <td>122</td>\n",
       "      <td>108</td>\n",
       "      <td>347</td>\n",
       "    </tr>\n",
       "  </tbody>\n",
       "</table>\n",
       "</div>"
      ],
      "text/plain": [
       "class   First  Second  Third\n",
       "sex                         \n",
       "female     94      76    144\n",
       "male      122     108    347"
      ]
     },
     "execution_count": 3,
     "metadata": {},
     "output_type": "execute_result"
    }
   ],
   "source": [
    "import matplotlib.pyplot as plt\n",
    "import seaborn as sns\n",
    "\n",
    "titanic = sns.load_dataset('titanic')\n",
    "\n",
    "sns.set_style('darkgrid')\n",
    "\n",
    "# 피벗테이블로 범주형 변수를 각각 행,열로 재구성하여 정리\n",
    "# aggfunc = 'size' 데이터 값의 개수를 기준으로 집계한다는 뜻\n",
    "table = titanic.pivot_table(index = ['sex'], columns = ['class'], aggfunc = 'size', observed = False)\n",
    "table\n"
   ]
  },
  {
   "cell_type": "code",
   "execution_count": 5,
   "id": "87261978-12ba-42d5-9a51-34bf6a8e98ce",
   "metadata": {},
   "outputs": [
    {
     "data": {
      "image/png": "[encoded data removed]",
      "text/plain": [
       "<Figure size 640x480 with 1 Axes>"
      ]
     },
     "metadata": {},
     "output_type": "display_data"
    }
   ],
   "source": [
    "# 히트맵 그리기\n",
    "sns.heatmap(table, # 데이터프레임, 히트맵에 표시할 데이터의 행렬\n",
    "            annot = True, fmt = 'd', # 데이터 값을 각 셀에 표시할지 여부, True는 각 셀의 데이터값 표시, \n",
    "            # fmt : annot = True 일 때 데이터 값의 포맷을 지정, 'd'는 정수형 포맷을 의미\n",
    "            cmap = 'YlGnBu', # 히트맵에 사용할 컬러맵을 지정, 'YlGnBu' 는 노랑 - 초록 - 파랑 으로 변하는 컬러맵\n",
    "            linewidth = .5, # 히트맵의 각 셀의 구분하는 선의 너비\n",
    "            cbar = False) # 컬러 바 표시 여부\n",
    "\n",
    "plt.show()"
   ]
  },
  {
   "cell_type": "code",
   "execution_count": null,
   "id": "9f4dff25-54b4-4c7a-8495-4a196d29858b",
   "metadata": {},
   "outputs": [],
   "source": []
  }
 ],
 "metadata": {
  "kernelspec": {
   "display_name": "Python 3 (ipykernel)",
   "language": "python",
   "name": "python3"
  },
  "language_info": {
   "codemirror_mode": {
    "name": "ipython",
    "version": 3
   },
   "file_extension": ".py",
   "mimetype": "text/x-python",
   "name": "python",
   "nbconvert_exporter": "python",
   "pygments_lexer": "ipython3",
   "version": "3.12.4"
  }
 },
 "nbformat": 4,
 "nbformat_minor": 5
}
