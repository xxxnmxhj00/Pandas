{
 "cells": [
  {
   "cell_type": "code",
   "execution_count": 1,
   "id": "20b632f0-d2e1-451c-8cef-4c56df017ee6",
   "metadata": {},
   "outputs": [],
   "source": [
    "# 파이차트 : 원을 파이 조각처럼 나누어서 표현\n",
    "# 조각의 크기는 해당 변수에 속하는 데이터 값의 크기에 비례\n",
    "# plot() 메소드에 kind = 'pie' 옵션을 사용하여 그림"
   ]
  },
  {
   "cell_type": "code",
   "execution_count": 9,
   "id": "375898d5-bf6b-400c-88f4-579ebcc917ef",
   "metadata": {},
   "outputs": [
    {
     "data": {
      "text/html": [
       "<div>\n",
       "<style scoped>\n",
       "    .dataframe tbody tr th:only-of-type {\n",
       "        vertical-align: middle;\n",
       "    }\n",
       "\n",
       "    .dataframe tbody tr th {\n",
       "        vertical-align: top;\n",
       "    }\n",
       "\n",
       "    .dataframe thead th {\n",
       "        text-align: right;\n",
       "    }\n",
       "</style>\n",
       "<table border=\"1\" class=\"dataframe\">\n",
       "  <thead>\n",
       "    <tr style=\"text-align: right;\">\n",
       "      <th></th>\n",
       "      <th>mpg</th>\n",
       "      <th>cylinders</th>\n",
       "      <th>displacement</th>\n",
       "      <th>weight</th>\n",
       "      <th>accerleration</th>\n",
       "      <th>model year</th>\n",
       "      <th>count</th>\n",
       "    </tr>\n",
       "    <tr>\n",
       "      <th>origin</th>\n",
       "      <th></th>\n",
       "      <th></th>\n",
       "      <th></th>\n",
       "      <th></th>\n",
       "      <th></th>\n",
       "      <th></th>\n",
       "      <th></th>\n",
       "    </tr>\n",
       "  </thead>\n",
       "  <tbody>\n",
       "    <tr>\n",
       "      <th>1</th>\n",
       "      <td>5000.8</td>\n",
       "      <td>1556</td>\n",
       "      <td>61229.5</td>\n",
       "      <td>837121.0</td>\n",
       "      <td>3743.4</td>\n",
       "      <td>18827</td>\n",
       "      <td>249</td>\n",
       "    </tr>\n",
       "    <tr>\n",
       "      <th>2</th>\n",
       "      <td>1952.4</td>\n",
       "      <td>291</td>\n",
       "      <td>7640.0</td>\n",
       "      <td>169631.0</td>\n",
       "      <td>1175.1</td>\n",
       "      <td>5307</td>\n",
       "      <td>70</td>\n",
       "    </tr>\n",
       "    <tr>\n",
       "      <th>3</th>\n",
       "      <td>2405.6</td>\n",
       "      <td>324</td>\n",
       "      <td>8114.0</td>\n",
       "      <td>175477.0</td>\n",
       "      <td>1277.6</td>\n",
       "      <td>6118</td>\n",
       "      <td>79</td>\n",
       "    </tr>\n",
       "  </tbody>\n",
       "</table>\n",
       "</div>"
      ],
      "text/plain": [
       "           mpg  cylinders  displacement    weight  accerleration  model year  \\\n",
       "origin                                                                         \n",
       "1       5000.8       1556       61229.5  837121.0         3743.4       18827   \n",
       "2       1952.4        291        7640.0  169631.0         1175.1        5307   \n",
       "3       2405.6        324        8114.0  175477.0         1277.6        6118   \n",
       "\n",
       "        count  \n",
       "origin         \n",
       "1         249  \n",
       "2          70  \n",
       "3          79  "
      ]
     },
     "execution_count": 9,
     "metadata": {},
     "output_type": "execute_result"
    }
   ],
   "source": [
    "import pandas as pd\n",
    "import matplotlib.pyplot as plt\n",
    "\n",
    "plt.style.use('default')\n",
    "\n",
    "df = pd.read_csv('./data/auto-mpg.csv', header = None)\n",
    "\n",
    "# 열 이름 지정\n",
    "df.columns = ['mpg','cylinders','displacement','horsepower','weight',\n",
    "              'accerleration','model year','origin','name']\n",
    "\n",
    "# 데이터 개수 카운트를 위해 값 1을 가진 열을 추가\n",
    "df['count'] = 1 # 데이터 개수를 세기 위해 숫자 1을 원소로 갖는 열 만듬\n",
    "df_origin = df.groupby('origin').sum(numeric_only = True) # origin 열을 기준으로 그룹화, 합계 연산\n",
    "# groupby() 함수는 특정 열을 기준으로 데이터를 그룹화 , numeric_only=True**는 숫자형(numeric) 데이터만 합산\n",
    "df_origin.head()"
   ]
  },
  {
   "cell_type": "code",
   "execution_count": 5,
   "id": "bca072cd-dba6-44d3-83da-63499ea1bccc",
   "metadata": {},
   "outputs": [
    {
     "data": {
      "text/html": [
       "<div>\n",
       "<style scoped>\n",
       "    .dataframe tbody tr th:only-of-type {\n",
       "        vertical-align: middle;\n",
       "    }\n",
       "\n",
       "    .dataframe tbody tr th {\n",
       "        vertical-align: top;\n",
       "    }\n",
       "\n",
       "    .dataframe thead th {\n",
       "        text-align: right;\n",
       "    }\n",
       "</style>\n",
       "<table border=\"1\" class=\"dataframe\">\n",
       "  <thead>\n",
       "    <tr style=\"text-align: right;\">\n",
       "      <th></th>\n",
       "      <th>mpg</th>\n",
       "      <th>cylinders</th>\n",
       "      <th>displacement</th>\n",
       "      <th>weight</th>\n",
       "      <th>accerleration</th>\n",
       "      <th>model year</th>\n",
       "      <th>count</th>\n",
       "    </tr>\n",
       "  </thead>\n",
       "  <tbody>\n",
       "    <tr>\n",
       "      <th>USA</th>\n",
       "      <td>5000.8</td>\n",
       "      <td>1556</td>\n",
       "      <td>61229.5</td>\n",
       "      <td>837121.0</td>\n",
       "      <td>3743.4</td>\n",
       "      <td>18827</td>\n",
       "      <td>249</td>\n",
       "    </tr>\n",
       "    <tr>\n",
       "      <th>EU</th>\n",
       "      <td>1952.4</td>\n",
       "      <td>291</td>\n",
       "      <td>7640.0</td>\n",
       "      <td>169631.0</td>\n",
       "      <td>1175.1</td>\n",
       "      <td>5307</td>\n",
       "      <td>70</td>\n",
       "    </tr>\n",
       "    <tr>\n",
       "      <th>JAPAN</th>\n",
       "      <td>2405.6</td>\n",
       "      <td>324</td>\n",
       "      <td>8114.0</td>\n",
       "      <td>175477.0</td>\n",
       "      <td>1277.6</td>\n",
       "      <td>6118</td>\n",
       "      <td>79</td>\n",
       "    </tr>\n",
       "  </tbody>\n",
       "</table>\n",
       "</div>"
      ],
      "text/plain": [
       "          mpg  cylinders  displacement    weight  accerleration  model year  \\\n",
       "USA    5000.8       1556       61229.5  837121.0         3743.4       18827   \n",
       "EU     1952.4        291        7640.0  169631.0         1175.1        5307   \n",
       "JAPAN  2405.6        324        8114.0  175477.0         1277.6        6118   \n",
       "\n",
       "       count  \n",
       "USA      249  \n",
       "EU        70  \n",
       "JAPAN     79  "
      ]
     },
     "execution_count": 5,
     "metadata": {},
     "output_type": "execute_result"
    }
   ],
   "source": [
    "# 제조국가 (origin) 값을 실제 지역명으로 변경\n",
    "df_origin.index = ['USA','EU','JAPAN']\n",
    "df_origin.head()"
   ]
  },
  {
   "cell_type": "code",
   "execution_count": 27,
   "id": "c2ca28bf-e2b6-49ee-9a4a-ff7a6f3f8735",
   "metadata": {},
   "outputs": [
    {
     "data": {
      "image/png": "[encoded data removed]",
      "text/plain": [
       "<Figure size 700x500 with 1 Axes>"
      ]
     },
     "metadata": {},
     "output_type": "display_data"
    }
   ],
   "source": [
    "# 각 제조국가별로 데이터 값들의 합계 중에서 우리가 사용할 데이터는 'count'열 \n",
    "# 여기에 plot() 메소드를 적용하면 국가열 점유율을 나타내는 파이차트를 그림\n",
    "df_origin['count'].plot(kind = 'pie',\n",
    "                        figsize = (7,5),\n",
    "                        autopct = '%1.1f%%', # 소수점 이하 첫째 자리까지 표기\n",
    "                        startangle = 10, # 파이 조각을 나누는 시작 위치 (각도 표시)\n",
    "                        colors = ['chocolate','bisque','cadetblue']\n",
    "                       )\n",
    "\n",
    "plt.title('Model Origin', size = 20)\n",
    "plt.axis('equal')\n",
    "plt.legend(labels = df_origin.index, loc = 'upper right')\n",
    "plt.show()"
   ]
  },
  {
   "cell_type": "code",
   "execution_count": 29,
   "id": "8dd350fb-174a-4416-b5ef-61de06d178f7",
   "metadata": {},
   "outputs": [],
   "source": [
    "# autopct = '%1.1f%%' (포맷 문자열)\n",
    "# autopct 옵션은 문자열 포맷 코드를 사용하여 파이 차트의 각 조각에 대한 비율을 표시하는 형식을 지정\n",
    "# %1.1f 부분 : 비율을 부동소수점 형식으로 표시하되, 최소한 하나의 숫자를 정수 부분으로 가지며(%1),\n",
    "# 소수점 아래는 하나의 숫자만 표시하도록(%.1f)설정한다\n",
    "# %% 부분 : 퍼센트 기호를 문자열에 포함시키기 위한 이스케이프 시퀀스. % 문자 자체를 출력하고자 할 때 %% 두 번 입력"
   ]
  },
  {
   "cell_type": "code",
   "execution_count": null,
   "id": "66bbcf2d-4384-4f1d-962d-91616e30922c",
   "metadata": {},
   "outputs": [],
   "source": []
  }
 ],
 "metadata": {
  "kernelspec": {
   "display_name": "Python 3 (ipykernel)",
   "language": "python",
   "name": "python3"
  },
  "language_info": {
   "codemirror_mode": {
    "name": "ipython",
    "version": 3
   },
   "file_extension": ".py",
   "mimetype": "text/x-python",
   "name": "python",
   "nbconvert_exporter": "python",
   "pygments_lexer": "ipython3",
   "version": "3.12.4"
  }
 },
 "nbformat": 4,
 "nbformat_minor": 5
}
