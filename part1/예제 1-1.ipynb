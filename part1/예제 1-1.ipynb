{
 "cells": [
  {
   "cell_type": "code",
   "execution_count": 1,
   "id": "ed520aee-ff3f-4db8-a8cd-68d521d0f9d4",
   "metadata": {},
   "outputs": [],
   "source": [
    "# 딕셔너리 -> 시리즈 변환 : pandas.Series( 딕셔너리 )"
   ]
  },
  {
   "cell_type": "code",
   "execution_count": 5,
   "id": "b4b6d4b0-f455-4e34-aac0-addd5ef1e61a",
   "metadata": {},
   "outputs": [
    {
     "name": "stdout",
     "output_type": "stream",
     "text": [
      "<class 'pandas.core.series.Series'>\n",
      "a    1\n",
      "b    2\n",
      "c    3\n",
      "dtype: int64\n"
     ]
    }
   ],
   "source": [
    "# 라이브러리 불러오기\n",
    "import pandas as pd\n",
    "\n",
    "# k : v 구조를 갖는 딕셔너리를 만들고, 변수 dict_date에 저장\n",
    "dict_data = {'a':1, 'b':2, 'c':3}\n",
    "\n",
    "# 판다스 Series() 함수로 딕셔너리 dict_data를 시리즈로 변환, 변수 sr에 저장\n",
    "sr = pd.Series(dict_data)\n",
    "\n",
    "print(type(sr))\n",
    "\n",
    "print(sr)"
   ]
  },
  {
   "cell_type": "code",
   "execution_count": null,
   "id": "6cce9d7d-ff97-414f-af7d-250a1913884c",
   "metadata": {},
   "outputs": [],
   "source": []
  }
 ],
 "metadata": {
  "kernelspec": {
   "display_name": "Python 3 (ipykernel)",
   "language": "python",
   "name": "python3"
  },
  "language_info": {
   "codemirror_mode": {
    "name": "ipython",
    "version": 3
   },
   "file_extension": ".py",
   "mimetype": "text/x-python",
   "name": "python",
   "nbconvert_exporter": "python",
   "pygments_lexer": "ipython3",
   "version": "3.12.4"
  }
 },
 "nbformat": 4,
 "nbformat_minor": 5
}
