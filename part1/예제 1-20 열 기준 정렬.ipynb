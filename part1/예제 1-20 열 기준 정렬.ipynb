{
 "cells": [
  {
   "cell_type": "code",
   "execution_count": 3,
   "id": "abf80104-c7fd-4468-9e89-1983d08ac78d",
   "metadata": {},
   "outputs": [
    {
     "name": "stdout",
     "output_type": "stream",
     "text": [
      "    c0  c1  c2  c3  c4\n",
      "r0   1   4   7  10  15\n",
      "r2   2   5   8  10  14\n",
      "r1   3   6   9  11  14\n",
      "    c0  c1  c2  c3  c4\n",
      "r1   3   6   9  11  14\n",
      "r2   2   5   8  10  14\n",
      "r0   1   4   7  10  15\n"
     ]
    }
   ],
   "source": [
    "import pandas as pd\n",
    "\n",
    "dict_data = {'c0':[1,2,3], 'c1':[4,5,6], 'c2':[7,8,9], 'c3':[10,10,11], 'c4':[15,14,14]}\n",
    "\n",
    "# 인덱스를 지정\n",
    "df = pd.DataFrame(dict_data, index = ['r0','r2','r1'])\n",
    "print(df)\n",
    "\n",
    "# 내림차순으로 행 인덱스 정렬 ascending = False\n",
    "ndf = df.sort_values(by = 'c1', ascending = False)\n",
    "print(ndf)"
   ]
  },
  {
   "cell_type": "code",
   "execution_count": null,
   "id": "243c0945-7ab2-42b3-8ecb-073a11b6cfac",
   "metadata": {},
   "outputs": [],
   "source": []
  }
 ],
 "metadata": {
  "kernelspec": {
   "display_name": "Python 3 (ipykernel)",
   "language": "python",
   "name": "python3"
  },
  "language_info": {
   "codemirror_mode": {
    "name": "ipython",
    "version": 3
   },
   "file_extension": ".py",
   "mimetype": "text/x-python",
   "name": "python",
   "nbconvert_exporter": "python",
   "pygments_lexer": "ipython3",
   "version": "3.12.4"
  }
 },
 "nbformat": 4,
 "nbformat_minor": 5
}
