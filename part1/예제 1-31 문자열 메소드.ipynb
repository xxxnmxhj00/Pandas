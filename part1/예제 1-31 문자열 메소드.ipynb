{
 "cells": [
  {
   "cell_type": "code",
   "execution_count": 1,
   "id": "9d2e7f64-89a3-4cc8-b361-0c42c8a6c272",
   "metadata": {},
   "outputs": [
    {
     "name": "stdout",
     "output_type": "stream",
     "text": [
      "First       Apple_사과\n",
      "Second    Banana_바나나\n",
      "Third      Cherry_체리\n",
      "Fourth           NaN\n",
      "dtype: object\n",
      "\n",
      "\n",
      "First       Apple_사과\n",
      "Second    Banana_바나나\n",
      "Third      Cherry_체리\n",
      "Fourth          <NA>\n",
      "dtype: string\n"
     ]
    }
   ],
   "source": [
    "import pandas as pd\n",
    "import numpy as np\n",
    "\n",
    "# 텍스트로 이루어진 시리즈 배열 만들기\n",
    "ser = pd.Series([\"Apple_사과\", \"Banana_바나나\", \"Cherry_체리\", np.nan],\n",
    "                index =[\"First\", \"Second\", \"Third\" , \"Fourth\"])\n",
    "print(ser)\n",
    "print('\\n')\n",
    "\n",
    "ser2 = pd.Series([\"Apple_사과\", \"Banana_바나나\", \"Cherry_체리\", np.nan],\n",
    "                index =[\"First\", \"Second\", \"Third\" , \"Fourth\"], dtype=\"string\")\n",
    "print(ser2)"
   ]
  },
  {
   "cell_type": "code",
   "execution_count": 5,
   "id": "459e9329-5e00-477d-87ac-092de3cb0d0b",
   "metadata": {},
   "outputs": [
    {
     "name": "stdout",
     "output_type": "stream",
     "text": [
      "First       apple_사과\n",
      "Second    banana_바나나\n",
      "Third      cherry_체리\n",
      "Fourth           NaN\n",
      "dtype: object\n",
      "\n",
      "\n",
      "First       APPLE_사과\n",
      "Second    BANANA_바나나\n",
      "Third      CHERRY_체리\n",
      "Fourth           NaN\n",
      "dtype: object\n",
      "\n",
      "\n",
      "First      8.0\n",
      "Second    10.0\n",
      "Third      9.0\n",
      "Fourth     NaN\n",
      "dtype: float64\n"
     ]
    }
   ],
   "source": [
    "print(ser.str.lower())\n",
    "print('\\n')\n",
    "\n",
    "print(ser.str.upper())\n",
    "print('\\n')\n",
    "\n",
    "print(ser.str.len())"
   ]
  },
  {
   "cell_type": "code",
   "execution_count": 7,
   "id": "ca1af486-5460-42d3-9c07-978a610163e6",
   "metadata": {},
   "outputs": [
    {
     "name": "stdout",
     "output_type": "stream",
     "text": [
      "First       [Apple, 사과]\n",
      "Second    [Banana, 바나나]\n",
      "Third      [Cherry, 체리]\n",
      "Fourth              NaN\n",
      "dtype: object\n",
      "\n",
      "\n",
      "             0    1\n",
      "First    Apple   사과\n",
      "Second  Banana  바나나\n",
      "Third   Cherry   체리\n",
      "Fourth     NaN  NaN\n",
      "\n",
      "\n",
      "First      사과\n",
      "Second    바나나\n",
      "Third      체리\n",
      "Fourth    NaN\n",
      "dtype: object\n"
     ]
    }
   ],
   "source": [
    "print(ser.str.split('_'))\n",
    "print('\\n')\n",
    "\n",
    "# 문자열을 분할하여 DataFrame으로 확장, expand = True 시리즈 객체의 문자열을 분할하고 분할된 각 부분을 DataFrame의 별도 열로 표시\n",
    "print(ser.str.split('_', expand = True))\n",
    "print('\\n')\n",
    "\n",
    "print(ser.str.split('_').str.get(1))"
   ]
  },
  {
   "cell_type": "code",
   "execution_count": 11,
   "id": "ded0478e-6fb6-4d8a-8e44-cb89a77a6e91",
   "metadata": {},
   "outputs": [
    {
     "name": "stdout",
     "output_type": "stream",
     "text": [
      "Index(['First', 'Second', 'Third', 'Fourth'], dtype='object')\n",
      "Index(['First', 'Second', 'Third', 'Fourth'], dtype='object')\n",
      "Index(['First', 'Second', 'Third', 'Fourth'], dtype='object')\n",
      "Index(['First', 'Second', 'Third', 'Fourth'], dtype='object')\n"
     ]
    }
   ],
   "source": [
    "# 행 인덱스를 추출 \n",
    "idx = ser.index\n",
    "print(idx)\n",
    "\n",
    "print(idx.str.strip())\n",
    "print(idx.str.lstrip())\n",
    "print(idx.str.rstrip())"
   ]
  },
  {
   "cell_type": "code",
   "execution_count": 19,
   "id": "c7106577-d048-4bf9-b0ba-dc5b6230df6d",
   "metadata": {},
   "outputs": [
    {
     "name": "stdout",
     "output_type": "stream",
     "text": [
      "First       Apple:사과\n",
      "Second    Banana:바나나\n",
      "Third      Cherry:체리\n",
      "Fourth           NaN\n",
      "dtype: object\n",
      "\n",
      "\n",
      "First      Apple\n",
      "Second    Banana\n",
      "Third     Cherry\n",
      "Fourth       NaN\n",
      "dtype: object\n"
     ]
    },
    {
     "name": "stderr",
     "output_type": "stream",
     "text": [
      "<>:7: SyntaxWarning: invalid escape sequence '\\s'\n",
      "<>:7: SyntaxWarning: invalid escape sequence '\\s'\n",
      "C:\\Users\\mpm51\\AppData\\Local\\Temp\\ipykernel_35932\\2154670191.py:7: SyntaxWarning: invalid escape sequence '\\s'\n",
      "  print(ser.str.replace(\"[^a-zA-Z\\s]\", \"\", regex=True))\n"
     ]
    }
   ],
   "source": [
    "# replace() 메소드는 문자열 내의 특정 패턴 또는 문자를 다른 문자열로 교체\n",
    "# regex = False 옵션은 정규 표현식으로 사용하지 않고, 단순한 문자열을 찾아서 변경\n",
    "print(ser.str.replace(\"_\",\":\", regex=False))\n",
    "print('\\n')\n",
    "\n",
    "# 정규 표현식을 사용한 문자열 교체(영문 알파벳이 아닌 문자 제거)\n",
    "print(ser.str.replace(\"[^a-zA-Z\\s]\", \"\", regex=True))"
   ]
  },
  {
   "cell_type": "code",
   "execution_count": 21,
   "id": "b0a2af75-8a3d-4884-ac38-bc592f25e665",
   "metadata": {},
   "outputs": [
    {
     "name": "stdout",
     "output_type": "stream",
     "text": [
      "First       A\n",
      "Second      B\n",
      "Third       C\n",
      "Fourth    NaN\n",
      "dtype: object\n",
      "\n",
      "\n",
      "First     Appl\n",
      "Second    Bana\n",
      "Third     Cher\n",
      "Fourth     NaN\n",
      "dtype: object\n"
     ]
    }
   ],
   "source": [
    "print(ser.str[0])\n",
    "print('\\n')\n",
    "\n",
    "# 슬라이싱 : 각 문자열의 첫 번째부터 세 번째 문자 선택\n",
    "print(ser.str[0:4])"
   ]
  },
  {
   "cell_type": "code",
   "execution_count": 25,
   "id": "f4e7aa2c-707a-4330-8888-9b8f9d32dc1c",
   "metadata": {},
   "outputs": [
    {
     "name": "stdout",
     "output_type": "stream",
     "text": [
      "First      True\n",
      "Second    False\n",
      "Third     False\n",
      "Fourth    False\n",
      "dtype: bool\n",
      "\n",
      "\n",
      "First     False\n",
      "Second    False\n",
      "Third     False\n",
      "Fourth      NaN\n",
      "dtype: object\n",
      "\n",
      "\n",
      "First     False\n",
      "Second    False\n",
      "Third     False\n",
      "Fourth      NaN\n",
      "dtype: object\n"
     ]
    }
   ],
   "source": [
    "contains_A = ser.str.contains(\"A\", na = False) # na = False 결측값이 있는경우 False 처리\n",
    "print(contains_A)\n",
    "print('\\n')\n",
    "\n",
    "# 패턴 포함 여부 확인\n",
    "contains_pattern = ser.str.contains(r\"[A|B] [a-z]+\")\n",
    "print(contains_pattern)\n",
    "print('\\n')\n",
    "\n",
    "# 전체 문자열의 패턴 일치 여부 확인\n",
    "fullmatch_pattern = ser.str.fullmatch(r\"[A|B] [a-z]+\")\n",
    "print(fullmatch_pattern)"
   ]
  },
  {
   "cell_type": "code",
   "execution_count": 29,
   "id": "1f394385-335a-4c88-8e6f-7c2579e89c73",
   "metadata": {},
   "outputs": [
    {
     "name": "stdout",
     "output_type": "stream",
     "text": [
      "    0\n",
      "0   1\n",
      "1   2\n",
      "2   3\n",
      "3  45\n",
      "4  67\n",
      "5   8\n",
      "\n",
      "\n",
      "    0\n",
      "0   a\n",
      "1   b\n",
      "2   c\n",
      "3  da\n",
      "4  ee\n",
      "5   f\n",
      "\n",
      "\n",
      "  Letter Digit\n",
      "0   <NA>  <NA>\n",
      "1   <NA>  <NA>\n",
      "2   <NA>  <NA>\n",
      "3   <NA>  <NA>\n",
      "4   <NA>  <NA>\n",
      "5   <NA>  <NA>\n"
     ]
    }
   ],
   "source": [
    "# 정규 표현식을 활용한 데이터 추출 작업 extract() 메소드, extractall() 메소드 사용\n",
    "\n",
    "ser3 = pd.Series(['a1','b2','c3','d4a5','e6e7','f8'], dtype = 'string')\n",
    "\n",
    "# 숫자만 추출\n",
    "digits = ser3.str.extractall(r\"(\\d)\").groupby(level=0).agg(''.join)\n",
    "print(digits)\n",
    "print('\\n')\n",
    "\n",
    "# 알파벳만 추출\n",
    "letters = ser3.str.extractall(r\"([a-z])\").groupby(level=0).agg(''.join)\n",
    "print(letters)\n",
    "print('\\n')\n",
    "\n",
    "# 숫자를 별도의 컬럼으로 분리\n",
    "split_columns = ser3.str.extract(r\"(?P<Letter>[a-z]+) (?P<Digit>\\d+)\")\n",
    "print(split_columns)"
   ]
  },
  {
   "cell_type": "code",
   "execution_count": null,
   "id": "593fcbcf-7642-4469-bf71-fff88e139593",
   "metadata": {},
   "outputs": [],
   "source": []
  }
 ],
 "metadata": {
  "kernelspec": {
   "display_name": "Python 3 (ipykernel)",
   "language": "python",
   "name": "python3"
  },
  "language_info": {
   "codemirror_mode": {
    "name": "ipython",
    "version": 3
   },
   "file_extension": ".py",
   "mimetype": "text/x-python",
   "name": "python",
   "nbconvert_exporter": "python",
   "pygments_lexer": "ipython3",
   "version": "3.12.4"
  }
 },
 "nbformat": 4,
 "nbformat_minor": 5
}
