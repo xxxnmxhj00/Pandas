{
 "cells": [
  {
   "cell_type": "code",
   "execution_count": null,
   "id": "077bd574-aaa0-49cb-9bbe-e3dcb345d795",
   "metadata": {},
   "outputs": [],
   "source": [
    "# 시리즈와 시리즈 사이의 사칙연산을 처리하는 방법, 시리즈의 모든 인덱스에 대하여 같은 인덱스를 가진 원소끼리 계산"
   ]
  },
  {
   "cell_type": "code",
   "execution_count": 1,
   "id": "1d9ff601-58d2-4ea1-9986-46eae6088081",
   "metadata": {},
   "outputs": [
    {
     "name": "stdout",
     "output_type": "stream",
     "text": [
      "국어    100\n",
      "영어     80\n",
      "수학     90\n",
      "dtype: int64\n",
      "\n",
      "\n",
      "수학    80\n",
      "국어    90\n",
      "영어    80\n",
      "dtype: int64\n",
      "<class 'pandas.core.series.Series'>\n",
      "국어    190\n",
      "수학    170\n",
      "영어    160\n",
      "dtype: int64\n"
     ]
    }
   ],
   "source": [
    "import pandas as pd \n",
    "\n",
    "# 딕셔너리 데이터로 판다스 시리즈 마들기\n",
    "student1 = pd.Series({'국어':100, '영어' : 80, '수학' : 90})\n",
    "student2 = pd.Series({'수학':80, '국어' : 90, '영어' : 80})\n",
    "\n",
    "print(student1)\n",
    "print('\\n')\n",
    "print(student2)\n",
    "\n",
    "# 두 학생의 과목별 점수로 사칙연산 수행\n",
    "addition = student1 + student2\n",
    "print(type(addition))\n",
    "print(addition)"
   ]
  },
  {
   "cell_type": "code",
   "execution_count": 3,
   "id": "924067d6-fdf7-42aa-8be1-fad94e7307b5",
   "metadata": {},
   "outputs": [],
   "source": [
    "# 인덱스로 주어진 과목명의 순서라 다르지만, 판다스는 같은 과목명(인덱스)을 찾아 정ㄹ려한 후 같은 과목명의 점수끼리 덧셈을 한다\n",
    "# 덧셈의 결과를 과목명에 매칭시키고 새로운 시리즈 객체를 반환"
   ]
  },
  {
   "cell_type": "code",
   "execution_count": 5,
   "id": "cd28bc44-17d4-45c5-a4df-e5cfdd222231",
   "metadata": {},
   "outputs": [
    {
     "name": "stdout",
     "output_type": "stream",
     "text": [
      "<class 'pandas.core.series.Series'>\n",
      "국어    10\n",
      "수학    10\n",
      "영어     0\n",
      "dtype: int64\n"
     ]
    }
   ],
   "source": [
    "subtraction = student1 - student2\n",
    "print(type(subtraction))\n",
    "print(subtraction)"
   ]
  },
  {
   "cell_type": "code",
   "execution_count": 7,
   "id": "aa2627c4-ce04-46fb-a3a1-e38a8ff41d84",
   "metadata": {},
   "outputs": [
    {
     "name": "stdout",
     "output_type": "stream",
     "text": [
      "<class 'pandas.core.series.Series'>\n",
      "국어    9000\n",
      "수학    7200\n",
      "영어    6400\n",
      "dtype: int64\n"
     ]
    }
   ],
   "source": [
    "multiplication = student1 * student2\n",
    "print(type(multiplication))\n",
    "print(multiplication)"
   ]
  },
  {
   "cell_type": "code",
   "execution_count": 9,
   "id": "90edafb0-ed55-49d6-8db3-d429f8b8764f",
   "metadata": {},
   "outputs": [
    {
     "name": "stdout",
     "output_type": "stream",
     "text": [
      "<class 'pandas.core.series.Series'>\n",
      "국어    1.111111\n",
      "수학    1.125000\n",
      "영어    1.000000\n",
      "dtype: float64\n"
     ]
    }
   ],
   "source": [
    "division = student1 / student2\n",
    "print(type(division))\n",
    "print(division)"
   ]
  },
  {
   "cell_type": "code",
   "execution_count": 11,
   "id": "5c73ebaf-e120-4095-aebe-633ffc43f429",
   "metadata": {},
   "outputs": [
    {
     "name": "stdout",
     "output_type": "stream",
     "text": [
      "              국어        수학      영어\n",
      "덧셈    190.000000   170.000   160.0\n",
      "뺄셈     10.000000    10.000     0.0\n",
      "곱셈   9000.000000  7200.000  6400.0\n",
      "나눗셈     1.111111     1.125     1.0\n"
     ]
    }
   ],
   "source": [
    "result = pd.DataFrame([addition, subtraction, multiplication, division],\n",
    "                      index = ['덧셈','뺄셈','곱셈','나눗셈'])\n",
    "print(result)"
   ]
  },
  {
   "cell_type": "code",
   "execution_count": null,
   "id": "24533220-813e-4613-a898-8c3f2f137ada",
   "metadata": {},
   "outputs": [],
   "source": []
  }
 ],
 "metadata": {
  "kernelspec": {
   "display_name": "Python 3 (ipykernel)",
   "language": "python",
   "name": "python3"
  },
  "language_info": {
   "codemirror_mode": {
    "name": "ipython",
    "version": 3
   },
   "file_extension": ".py",
   "mimetype": "text/x-python",
   "name": "python",
   "nbconvert_exporter": "python",
   "pygments_lexer": "ipython3",
   "version": "3.12.4"
  }
 },
 "nbformat": 4,
 "nbformat_minor": 5
}
