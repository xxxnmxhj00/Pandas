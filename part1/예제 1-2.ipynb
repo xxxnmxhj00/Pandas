{
 "cells": [
  {
   "cell_type": "code",
   "execution_count": 1,
   "id": "228d7a2f-65b4-450e-8c77-a4242d11aae7",
   "metadata": {},
   "outputs": [],
   "source": [
    "# 인덱스 배열 : Series객체.index\n",
    "# 데이터 값 배열 : Series객체.values"
   ]
  },
  {
   "cell_type": "code",
   "execution_count": 3,
   "id": "207bc391-c42f-46d1-8962-9488f95104d2",
   "metadata": {},
   "outputs": [],
   "source": [
    "# 파이썬 리스트를 시리즈로 변환\n",
    "# 리스트를 시리즈로 변환할 때는 키처럼 인덱스로 변환될 값이 없음\n",
    "# 인덱스를 별도로 지정하지 않으면 디폴트로 정수형 위치 인덱스가 자동으로 저장"
   ]
  },
  {
   "cell_type": "code",
   "execution_count": 17,
   "id": "0e28a23b-efaa-4375-9243-a98593354a9d",
   "metadata": {},
   "outputs": [
    {
     "name": "stdout",
     "output_type": "stream",
     "text": [
      "0    2019-01-02\n",
      "1          3.14\n",
      "2           ABC\n",
      "3           100\n",
      "4          True\n",
      "dtype: object\n",
      "RangeIndex(start=0, stop=5, step=1)\n",
      "['2019-01-02' 3.14 'ABC' 100 True]\n",
      "object\n",
      "5\n",
      "(5,)\n",
      "1\n"
     ]
    }
   ],
   "source": [
    "import pandas as pd\n",
    "\n",
    "# 리스트를 시리즈로 변환하여 변수 sr에 저장\n",
    "list_data = ['2019-01-02', 3.14, 'ABC', 100, True]\n",
    "sr = pd.Series(list_data)\n",
    "print(sr)\n",
    "\n",
    "# 인덱스 배열은 변수 idx에 저장\n",
    "# 0~4 범위의 정수를 갖는 RangeIndex 객체로 표시됨(범위의 마지막 값은 포함되지 않음)\n",
    "idx = sr.index\n",
    "print(idx)\n",
    "\n",
    "# 데이터 값 배열은 변수 val에 저장\n",
    "val = sr.values\n",
    "print(val)\n",
    "\n",
    "# 시리즈 배열을 구성하는 원소의 자료형\n",
    "print(sr.dtype)\n",
    "\n",
    "# 시리즈 배열의 크기\n",
    "print(len(sr))\n",
    "\n",
    "# shape 속성은 시리즈 배열의 형태를 나타냄\n",
    "# 일반적으로 (행 수,열 수) 형식으로 출력\n",
    "# 시리즈는 1차원 데이터 구조이므로, shape는 (n,) 형태로 출력\n",
    "print(sr.shape)\n",
    "\n",
    "# ndim 속성은 배열이나 데이터 구조의 차원 수를 나타냄, 시리즈는 1차원 데이터이므로 실행 결과 1로 출력\n",
    "print(sr.ndim)"
   ]
  },
  {
   "cell_type": "code",
   "execution_count": null,
   "id": "a2d1b0b3-45bb-44af-9a49-ef98404fb287",
   "metadata": {},
   "outputs": [],
   "source": []
  }
 ],
 "metadata": {
  "kernelspec": {
   "display_name": "Python 3 (ipykernel)",
   "language": "python",
   "name": "python3"
  },
  "language_info": {
   "codemirror_mode": {
    "name": "ipython",
    "version": 3
   },
   "file_extension": ".py",
   "mimetype": "text/x-python",
   "name": "python",
   "nbconvert_exporter": "python",
   "pygments_lexer": "ipython3",
   "version": "3.12.4"
  }
 },
 "nbformat": 4,
 "nbformat_minor": 5
}
