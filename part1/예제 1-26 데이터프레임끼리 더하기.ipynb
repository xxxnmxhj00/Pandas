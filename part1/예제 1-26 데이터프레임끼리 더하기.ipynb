{
 "cells": [
  {
   "cell_type": "code",
   "execution_count": 3,
   "id": "b07c0e1d-35eb-4c2c-bb80-31c64f73e5b2",
   "metadata": {},
   "outputs": [],
   "source": [
    "# 데이터프레임의 같은 행 같은 열 위치에 있는 원소끼리 계산한다\n",
    "# 동일한 위치의 원소끼리 계산한 결과값을 원래 위치에 다시 입력하여 데이터프레임을 만듬\n",
    "# 어느 한쪽에 원소가 존재하지 않거라 NaN 이면 연산결과는 NaN으로 처리"
   ]
  },
  {
   "cell_type": "code",
   "execution_count": 7,
   "id": "4d74c2a6-45e0-4cec-8149-4b2f8bbfef08",
   "metadata": {},
   "outputs": [
    {
     "name": "stdout",
     "output_type": "stream",
     "text": [
      "      age   fare\n",
      "886  27.0  13.00\n",
      "887  19.0  30.00\n",
      "888   NaN  23.45\n",
      "889  26.0  30.00\n",
      "890  32.0   7.75\n",
      "\n",
      "\n",
      "<class 'pandas.core.frame.DataFrame'>\n",
      "\n",
      "\n",
      "      age   fare\n",
      "886  37.0  23.00\n",
      "887  29.0  40.00\n",
      "888   NaN  33.45\n",
      "889  36.0  40.00\n",
      "890  42.0  17.75\n",
      "\n",
      "\n",
      "<class 'pandas.core.frame.DataFrame'>\n",
      "      age  fare\n",
      "886  10.0  10.0\n",
      "887  10.0  10.0\n",
      "888   NaN  10.0\n",
      "889  10.0  10.0\n",
      "890  10.0  10.0\n",
      "\n",
      "\n",
      "<class 'pandas.core.frame.DataFrame'>\n"
     ]
    }
   ],
   "source": [
    "import pandas as pd\n",
    "import seaborn as sns\n",
    "\n",
    "# titanic 데이터셋에서 age, fare 2개 열을 선택하여 데이터프레임 만들기\n",
    "titanic = sns.load_dataset('titanic')\n",
    "df = titanic.loc[:, ['age','fare']]\n",
    "print(df.tail())\n",
    "print('\\n')\n",
    "print(type(df))\n",
    "print('\\n')\n",
    "\n",
    "# 데이터프레임에 숫자 더하기\n",
    "addition = df + 10\n",
    "print(addition.tail())\n",
    "print('\\n')\n",
    "print(type(addition))\n",
    "\n",
    "# 데이터프레임끼리 연산하기 (addition - df)\n",
    "subtraction = addition - df\n",
    "print(subtraction.tail())\n",
    "print('\\n')\n",
    "print(type(subtraction))"
   ]
  },
  {
   "cell_type": "code",
   "execution_count": 13,
   "id": "2f9a1c11-c7b2-462d-ac24-e0daedd38313",
   "metadata": {},
   "outputs": [
    {
     "name": "stdout",
     "output_type": "stream",
     "text": [
      "      age   fare\n",
      "886  37.0  23.00\n",
      "887  29.0  40.00\n",
      "888   NaN  33.45\n",
      "889  36.0  40.00\n",
      "890  42.0  17.75\n",
      "      age  fare\n",
      "886  10.0  10.0\n",
      "887  10.0  10.0\n",
      "888   0.0  10.0\n",
      "889  10.0  10.0\n",
      "890  10.0  10.0\n"
     ]
    }
   ],
   "source": [
    "# 사칙연산 수행(연산 메소드 사용)\n",
    "sample1 = addition.tail()\n",
    "sample2 = subtraction.tail().fillna(0.0)\n",
    "\n",
    "print(sample1)\n",
    "print(sample2)\n"
   ]
  },
  {
   "cell_type": "code",
   "execution_count": 19,
   "id": "c9b4a561-a8c3-4735-82f0-b402cd30ca47",
   "metadata": {},
   "outputs": [
    {
     "name": "stdout",
     "output_type": "stream",
     "text": [
      "      age   fare\n",
      "886  47.0  33.00\n",
      "887  39.0  50.00\n",
      "888   0.0  43.45\n",
      "889  46.0  50.00\n",
      "890  52.0  27.75\n",
      "      age   fare\n",
      "886  27.0  13.00\n",
      "887  19.0  30.00\n",
      "888   0.0  23.45\n",
      "889  26.0  30.00\n",
      "890  32.0   7.75\n",
      "       age   fare\n",
      "886  370.0  230.0\n",
      "887  290.0  400.0\n",
      "888    0.0  334.5\n",
      "889  360.0  400.0\n",
      "890  420.0  177.5\n",
      "     age   fare\n",
      "886  3.7  2.300\n",
      "887  2.9  4.000\n",
      "888  NaN  3.345\n",
      "889  3.6  4.000\n",
      "890  4.2  1.775\n"
     ]
    }
   ],
   "source": [
    "df_add = sample1.add(sample2, fill_value = 0)\n",
    "df_sub = sample1.sub(sample2, fill_value = 0)\n",
    "df_mul = sample1.mul(sample2, fill_value = 0)\n",
    "df_div = sample1.div(sample2, fill_value = 0)\n",
    "print(df_add)\n",
    "print(df_sub)\n",
    "print(df_mul)\n",
    "print(df_div)"
   ]
  },
  {
   "cell_type": "code",
   "execution_count": null,
   "id": "5b6883df-6d77-4712-830b-aefab760440a",
   "metadata": {},
   "outputs": [],
   "source": []
  }
 ],
 "metadata": {
  "kernelspec": {
   "display_name": "Python 3 (ipykernel)",
   "language": "python",
   "name": "python3"
  },
  "language_info": {
   "codemirror_mode": {
    "name": "ipython",
    "version": 3
   },
   "file_extension": ".py",
   "mimetype": "text/x-python",
   "name": "python",
   "nbconvert_exporter": "python",
   "pygments_lexer": "ipython3",
   "version": "3.12.4"
  }
 },
 "nbformat": 4,
 "nbformat_minor": 5
}
