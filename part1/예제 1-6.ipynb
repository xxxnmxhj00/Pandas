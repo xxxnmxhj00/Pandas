{
 "cells": [
  {
   "cell_type": "code",
   "execution_count": null,
   "id": "f5fc7dc7-1d81-4805-91b2-a7ddbebfad20",
   "metadata": {},
   "outputs": [],
   "source": [
    "# 데이터 프레임에 rename() 메소드를 적용하면 행 인덱스 또는 열 이름의 일부를 선택하여 변경할 수 있다\n",
    "# 원본 객체를 직접 수정하는 것이 아니라 새로운 데이터프레임 객체를 반환하는 것이라는 점에 유의"
   ]
  },
  {
   "cell_type": "code",
   "execution_count": null,
   "id": "9ceba0f9-fb9a-4651-90d7-d356c2ed7bc2",
   "metadata": {},
   "outputs": [],
   "source": [
    "# 행 인덱스 변경 : DataFrame객체.rename(index={기존인덱스 : 새 인덱스,,,,})\n",
    "# 열 이름 변경 : DataFrame객체.rename(columns={기존 이름 : 새 이름,...})"
   ]
  },
  {
   "cell_type": "code",
   "execution_count": 9,
   "id": "84ea732e-f768-4969-94cb-e9b4af8be171",
   "metadata": {},
   "outputs": [
    {
     "name": "stdout",
     "output_type": "stream",
     "text": [
      "    나이 성별   학교\n",
      "준서  15  남  덕양중\n",
      "예은  17  여  수리중\n"
     ]
    }
   ],
   "source": [
    "import pandas as pd\n",
    "\n",
    "df = pd.DataFrame([[15,'남','덕양중'], [17,'여','수리중']],\n",
    "                  index = ['준서','예은'],\n",
    "                  columns = ['나이','성별','학교'])\n",
    "print(df)"
   ]
  },
  {
   "cell_type": "code",
   "execution_count": 13,
   "id": "07a5611d-5b07-44af-8e8c-736621c690cb",
   "metadata": {},
   "outputs": [
    {
     "name": "stdout",
     "output_type": "stream",
     "text": [
      "    연령 남녀   소속\n",
      "준서  15  남  덕양중\n",
      "예은  17  여  수리중\n"
     ]
    }
   ],
   "source": [
    "df = df.rename(columns ={'나이':'연령', '성별':'남녀', '학교':'소속'})\n",
    "\n",
    "print(df)"
   ]
  },
  {
   "cell_type": "code",
   "execution_count": 16,
   "id": "a5a35d3e-1b23-461e-a5ca-b73bc3786879",
   "metadata": {},
   "outputs": [
    {
     "name": "stdout",
     "output_type": "stream",
     "text": [
      "     연령 남녀   소속\n",
      "학생1  15  남  덕양중\n",
      "학생2  17  여  수리중\n"
     ]
    }
   ],
   "source": [
    "df = df.rename(index = {'준서':'학생1', '예은':'학생2'})\n",
    "\n",
    "print(df)"
   ]
  },
  {
   "cell_type": "code",
   "execution_count": null,
   "id": "a117e07d-e17b-4151-81e7-59a8ff39e045",
   "metadata": {},
   "outputs": [],
   "source": []
  }
 ],
 "metadata": {
  "kernelspec": {
   "display_name": "Python 3 (ipykernel)",
   "language": "python",
   "name": "python3"
  },
  "language_info": {
   "codemirror_mode": {
    "name": "ipython",
    "version": 3
   },
   "file_extension": ".py",
   "mimetype": "text/x-python",
   "name": "python",
   "nbconvert_exporter": "python",
   "pygments_lexer": "ipython3",
   "version": "3.12.4"
  }
 },
 "nbformat": 4,
 "nbformat_minor": 5
}
