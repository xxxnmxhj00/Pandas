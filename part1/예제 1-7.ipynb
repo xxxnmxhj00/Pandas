{
 "cells": [
  {
   "cell_type": "code",
   "execution_count": 1,
   "id": "2a791115-bdce-45e6-8910-72f01aeccfcc",
   "metadata": {},
   "outputs": [],
   "source": [
    "# 행 삭제 : DataFrame 객체.drop(행 인덱스 또는 배열, axis = 0, axis = 'index')\n",
    "# 열 삭제 : DataFrame 객체.drop(열 인덱스 또는 배열, axis = 1 or axis = 'columns')"
   ]
  },
  {
   "cell_type": "code",
   "execution_count": 5,
   "id": "d7b9c433-4774-4c51-a1fc-bc23016dabe0",
   "metadata": {},
   "outputs": [
    {
     "name": "stdout",
     "output_type": "stream",
     "text": [
      "    수학  영어   음악   체육\n",
      "서준  90  98   85  100\n",
      "우현  80  89   95   90\n",
      "인아  70  95  100   90\n",
      "    수학  영어   음악   체육\n",
      "서준  90  98   85  100\n",
      "인아  70  95  100   90\n"
     ]
    }
   ],
   "source": [
    "# 행 삭제\n",
    "import pandas as pd\n",
    "\n",
    "exam_data = {'수학' :[90,80,70], '영어' : [98,89,95],\n",
    "             '음악' :[85,95,100], '체육' : [100,90,90]}\n",
    "\n",
    "df = pd.DataFrame(exam_data, index =['서준','우현','인아'])\n",
    "print(df)\n",
    "\n",
    "# 데이터 프레임 df를 복제하여 변수 df2에 저장, df2의 1개 행 삭제\n",
    "# 행을 삭제할 때는 축 옵션을 입력하지 않거나, axis = 0 or axis = 'index'와 같이 축 옵션을 설정\n",
    "df2 = df.copy()\n",
    "df2 = df2.drop('우현')\n",
    "print(df2)"
   ]
  },
  {
   "cell_type": "code",
   "execution_count": 7,
   "id": "79075fc3-8f32-4351-9a8f-83b879ac9380",
   "metadata": {},
   "outputs": [
    {
     "name": "stdout",
     "output_type": "stream",
     "text": [
      "    수학  영어  음악   체육\n",
      "서준  90  98  85  100\n"
     ]
    }
   ],
   "source": [
    "df3 = df.copy()\n",
    "df3 = df3.drop(['우현','인아'], axis = 0)\n",
    "print(df3)"
   ]
  },
  {
   "cell_type": "code",
   "execution_count": 9,
   "id": "d4eb498b-a943-44c3-b4c8-ff9ade98072b",
   "metadata": {},
   "outputs": [
    {
     "name": "stdout",
     "output_type": "stream",
     "text": [
      "    수학  영어  음악   체육\n",
      "서준  90  98  85  100\n"
     ]
    }
   ],
   "source": [
    "df4 = df.copy()\n",
    "df4 = df.drop(['우현','인아'], axis = 'index')\n",
    "print(df4)"
   ]
  },
  {
   "cell_type": "code",
   "execution_count": 11,
   "id": "53ac9f25-dc27-4033-a874-653b4a3ae38f",
   "metadata": {},
   "outputs": [
    {
     "name": "stdout",
     "output_type": "stream",
     "text": [
      "    수학  영어   음악   체육\n",
      "서준  90  98   85  100\n",
      "인아  70  95  100   90\n"
     ]
    }
   ],
   "source": [
    "df5 = df.copy()\n",
    "df5 = df.drop(index = ['우현'])\n",
    "print(df5)"
   ]
  },
  {
   "cell_type": "code",
   "execution_count": null,
   "id": "b7b1caa1-0b6d-4e85-a630-7aefee51fc9d",
   "metadata": {},
   "outputs": [],
   "source": []
  }
 ],
 "metadata": {
  "kernelspec": {
   "display_name": "Python 3 (ipykernel)",
   "language": "python",
   "name": "python3"
  },
  "language_info": {
   "codemirror_mode": {
    "name": "ipython",
    "version": 3
   },
   "file_extension": ".py",
   "mimetype": "text/x-python",
   "name": "python",
   "nbconvert_exporter": "python",
   "pygments_lexer": "ipython3",
   "version": "3.12.4"
  }
 },
 "nbformat": 4,
 "nbformat_minor": 5
}
