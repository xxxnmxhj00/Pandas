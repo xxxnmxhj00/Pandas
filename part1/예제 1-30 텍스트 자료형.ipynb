{
 "cells": [
  {
   "cell_type": "code",
   "execution_count": 3,
   "id": "0de88b83-1878-4950-ad38-1a5be3130667",
   "metadata": {},
   "outputs": [],
   "source": [
    "# 판다스에서 텍스트 데이터를 저장하는 두 가지 주요 방법은 object 자료형과 확장 타입인 StringDtype(string 자료형)\n",
    "# object는 단점이 있어서 StringDtype 사용 권장\n",
    "# 텍스트 데이터의 일관성을 유지하고, 문자열 전용 메소드와 기능을 사용할 대 발생할 수 있는 오류를 최소화하는 데 도움이 되는 방법\n",
    "# 대용량의 텍스트 데이터를 다룰 때 메모리 사용량을 줄이고 성능을 개선할 수 있는 장점\n",
    "\n",
    "# 현재 버전에는 StringDtype 자료형을 명시적으로 선언하지 않으면 기본 텍스트 저장은 object"
   ]
  },
  {
   "cell_type": "code",
   "execution_count": 5,
   "id": "e5842920-09cc-4984-8d11-308465e752cc",
   "metadata": {},
   "outputs": [
    {
     "data": {
      "text/plain": [
       "0     Apple\n",
       "1    Banana\n",
       "2    Cherry\n",
       "dtype: object"
      ]
     },
     "execution_count": 5,
     "metadata": {},
     "output_type": "execute_result"
    }
   ],
   "source": [
    "import pandas as pd\n",
    "\n",
    "fruit_names = pd.Series(['Apple','Banana','Cherry'])\n",
    "\n",
    "fruit_names"
   ]
  },
  {
   "cell_type": "code",
   "execution_count": 7,
   "id": "079ea3f6-8550-49d2-9486-1a4914f3a2f9",
   "metadata": {},
   "outputs": [
    {
     "data": {
      "text/plain": [
       "0     Apple\n",
       "1    Banana\n",
       "2    Cherry\n",
       "dtype: string"
      ]
     },
     "execution_count": 7,
     "metadata": {},
     "output_type": "execute_result"
    }
   ],
   "source": [
    "pd.Series(['Apple','Banana','Cherry'], dtype = 'string')"
   ]
  },
  {
   "cell_type": "code",
   "execution_count": 11,
   "id": "af26b81c-0531-43e9-9313-0760f27eaae1",
   "metadata": {},
   "outputs": [
    {
     "data": {
      "text/plain": [
       "0     Apple\n",
       "1    Banana\n",
       "2    Cherry\n",
       "dtype: string"
      ]
     },
     "execution_count": 11,
     "metadata": {},
     "output_type": "execute_result"
    }
   ],
   "source": [
    "pd.Series(['Apple','Banana','Cherry'], dtype =pd.StringDtype())"
   ]
  },
  {
   "cell_type": "code",
   "execution_count": 13,
   "id": "55f709da-dc8d-4f0b-adf6-20515233294c",
   "metadata": {},
   "outputs": [
    {
     "data": {
      "text/plain": [
       "0     Apple\n",
       "1    Banana\n",
       "2    Cherry\n",
       "dtype: string"
      ]
     },
     "execution_count": 13,
     "metadata": {},
     "output_type": "execute_result"
    }
   ],
   "source": [
    "fruit_names.astype('string')"
   ]
  },
  {
   "cell_type": "code",
   "execution_count": null,
   "id": "41d327b2-f6ca-4f15-a613-d7d16a172aa6",
   "metadata": {},
   "outputs": [],
   "source": []
  }
 ],
 "metadata": {
  "kernelspec": {
   "display_name": "Python 3 (ipykernel)",
   "language": "python",
   "name": "python3"
  },
  "language_info": {
   "codemirror_mode": {
    "name": "ipython",
    "version": 3
   },
   "file_extension": ".py",
   "mimetype": "text/x-python",
   "name": "python",
   "nbconvert_exporter": "python",
   "pygments_lexer": "ipython3",
   "version": "3.12.4"
  }
 },
 "nbformat": 4,
 "nbformat_minor": 5
}
