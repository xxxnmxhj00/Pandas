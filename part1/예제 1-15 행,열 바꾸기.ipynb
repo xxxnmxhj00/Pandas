{
 "cells": [
  {
   "cell_type": "code",
   "execution_count": 1,
   "id": "9efba540-8123-4583-b538-b71dbd684d00",
   "metadata": {},
   "outputs": [
    {
     "name": "stdout",
     "output_type": "stream",
     "text": [
      "    수학  영어   음악   체육\n",
      "이름                  \n",
      "서준  90  98   85  100\n",
      "우현  80  89   95   90\n",
      "인아  70  95  100   90\n",
      "이름   서준  우현   인아\n",
      "수학   90  80   70\n",
      "영어   98  89   95\n",
      "음악   85  95  100\n",
      "체육  100  90   90\n",
      "    수학  영어   음악   체육\n",
      "이름                  \n",
      "서준  90  98   85  100\n",
      "우현  80  89   95   90\n",
      "인아  70  95  100   90\n"
     ]
    }
   ],
   "source": [
    "import pandas as pd\n",
    "\n",
    "exam_data = {'이름' : ['서준','우현','인아'],\n",
    "             '수학' : [90,80,70], \n",
    "             '영어' : [98,89,95],\n",
    "             '음악' : [85,95,100], \n",
    "             '체육' : [100,90,90]}\n",
    "\n",
    "df = pd.DataFrame(exam_data)\n",
    "\n",
    "# '이름' 열을 새로운 인덱스로 지정하고, df 객체에 변경사항 반영\n",
    "df = df.set_index('이름')\n",
    "print(df)\n",
    "\n",
    "# df를 전치하기\n",
    "df = df.transpose()\n",
    "print(df)\n",
    "\n",
    "# df를 다시 전치하기\n",
    "df = df.T\n",
    "print(df)"
   ]
  },
  {
   "cell_type": "code",
   "execution_count": null,
   "id": "0e7c2d51-e777-4e10-b543-418ed712a9f3",
   "metadata": {},
   "outputs": [],
   "source": []
  }
 ],
 "metadata": {
  "kernelspec": {
   "display_name": "Python 3 (ipykernel)",
   "language": "python",
   "name": "python3"
  },
  "language_info": {
   "codemirror_mode": {
    "name": "ipython",
    "version": 3
   },
   "file_extension": ".py",
   "mimetype": "text/x-python",
   "name": "python",
   "nbconvert_exporter": "python",
   "pygments_lexer": "ipython3",
   "version": "3.12.4"
  }
 },
 "nbformat": 4,
 "nbformat_minor": 5
}
