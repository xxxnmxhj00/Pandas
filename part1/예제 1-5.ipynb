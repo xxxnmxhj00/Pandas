{
 "cells": [
  {
   "cell_type": "code",
   "execution_count": 1,
   "id": "c37d7adb-7657-4139-93b3-fac2a0a5ec90",
   "metadata": {},
   "outputs": [],
   "source": [
    "# 행 인덱스/열 이름 설정 : pandas.DataFrame(2차원 배열, index = 행 인덱스 배열, columns = 열 이름 배열)"
   ]
  },
  {
   "cell_type": "code",
   "execution_count": 3,
   "id": "8a07eab9-38fd-4d7b-95bc-9a65654e3611",
   "metadata": {},
   "outputs": [
    {
     "name": "stdout",
     "output_type": "stream",
     "text": [
      "    나이 성별   학교\n",
      "준서  15  남  덕양중\n",
      "예은  17  여  수리중\n"
     ]
    }
   ],
   "source": [
    "import pandas as pd\n",
    "\n",
    "df = pd.DataFrame([[15,'남','덕양중'], [17,'여','수리중']],\n",
    "                  index = ['준서','예은'],\n",
    "                  columns = ['나이','성별','학교'])\n",
    "print(df)"
   ]
  },
  {
   "cell_type": "code",
   "execution_count": 5,
   "id": "5e75484f-f6dc-47df-91d8-2fd6043ea41c",
   "metadata": {},
   "outputs": [
    {
     "name": "stdout",
     "output_type": "stream",
     "text": [
      "Index(['준서', '예은'], dtype='object')\n"
     ]
    }
   ],
   "source": [
    "# 앞의 실행 결과에서 리스트가 행으로 변환되는 점에 유의\n",
    "# 앞에서 리스트를 원소로 갖는 딕셔너리를 이용했을 때는 리스트가 열이 된 것과 차이가 있음\n",
    "print(df.index)"
   ]
  },
  {
   "cell_type": "code",
   "execution_count": 7,
   "id": "1bf71d8e-b179-4a1f-9306-db9e7d5823a7",
   "metadata": {},
   "outputs": [
    {
     "name": "stdout",
     "output_type": "stream",
     "text": [
      "Index(['나이', '성별', '학교'], dtype='object')\n"
     ]
    }
   ],
   "source": [
    "print(df.columns)"
   ]
  },
  {
   "cell_type": "code",
   "execution_count": 9,
   "id": "97c9704c-fc44-4c59-8d62-e61ca8791b69",
   "metadata": {},
   "outputs": [],
   "source": []
  },
  {
   "cell_type": "code",
   "execution_count": 11,
   "id": "cf2f6526-c8b4-4623-a4c4-bb5a81ae0173",
   "metadata": {},
   "outputs": [
    {
     "name": "stdout",
     "output_type": "stream",
     "text": [
      "     연령 남녀   소속\n",
      "학생1  15  남  덕양중\n",
      "학생2  17  여  수리중\n",
      "\n",
      "\n",
      "Index(['학생1', '학생2'], dtype='object')\n",
      "\n",
      "\n",
      "Index(['연령', '남녀', '소속'], dtype='object')\n"
     ]
    }
   ],
   "source": []
  },
  {
   "cell_type": "code",
   "execution_count": 13,
   "id": "fb29594a-3c35-49c0-8d95-9b3ab1c2c9bd",
   "metadata": {},
   "outputs": [],
   "source": [
    "# 데이터 프레임에 rename() 메소드를 적용하면 행 인덱스 또는 열 이름의 일부를 선택하여 변경할 수 있다\n",
    "# 원본 객체를 직접 수정하는 것이 아니라 새로운 데이터프레임 객체를 반환하는 것이라는 점에 유의"
   ]
  },
  {
   "cell_type": "code",
   "execution_count": 15,
   "id": "3a05377a-e9c0-4a2d-b1a0-3f0b0661ecd1",
   "metadata": {},
   "outputs": [],
   "source": [
    "# 행 인덱스 변경 : DataFrame객체.rename(index={기존인덱스 : 새 인덱스,,,,})\n",
    "# 열 이름 변경 : DataFrame객체.rename(columns={기존 이름 : 새 이름,...})"
   ]
  },
  {
   "cell_type": "code",
   "execution_count": null,
   "id": "af333eec-eca1-45b8-afff-8bccc4b903a9",
   "metadata": {},
   "outputs": [],
   "source": [
    "import pandas as pd\n",
    "\n",
    "# 행 인덱스/열 이름을 지정하여 데이터프레임 만들기\n",
    "df = pd.DataFrame("
   ]
  }
 ],
 "metadata": {
  "kernelspec": {
   "display_name": "Python 3 (ipykernel)",
   "language": "python",
   "name": "python3"
  },
  "language_info": {
   "codemirror_mode": {
    "name": "ipython",
    "version": 3
   },
   "file_extension": ".py",
   "mimetype": "text/x-python",
   "name": "python",
   "nbconvert_exporter": "python",
   "pygments_lexer": "ipython3",
   "version": "3.12.4"
  }
 },
 "nbformat": 4,
 "nbformat_minor": 5
}
