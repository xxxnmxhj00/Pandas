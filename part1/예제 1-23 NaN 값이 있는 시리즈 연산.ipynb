{
 "cells": [
  {
   "cell_type": "code",
   "execution_count": 3,
   "id": "5ef9c2ab-f4d7-49ef-a65b-0ac93c395ff0",
   "metadata": {},
   "outputs": [],
   "source": [
    "# 연산을 하는 두 시리즈의 원소 개수가 다르거나, 시리즈의 크기가 같더라도 인덱스 값이 다를 수 있음"
   ]
  },
  {
   "cell_type": "code",
   "execution_count": 5,
   "id": "59c378dc-37bc-416f-b99a-9f455206b251",
   "metadata": {},
   "outputs": [],
   "source": [
    "# 이처럼 어느 한쪽에만 인덱스가 존재하고 다른 쪽에는 짝을 지을 수 있는 동일한 인덱스가 없는 경우 정상적으로 연산을 처리할 수 없음"
   ]
  },
  {
   "cell_type": "code",
   "execution_count": 7,
   "id": "5d826898-9871-4555-9305-dac8101bebef",
   "metadata": {},
   "outputs": [],
   "source": [
    "# 이럴 때 판다스는 유효한 값이 존재하지 않는다는 의미로 NaN으로 처리, 결과 또한 NaN으로 입력"
   ]
  },
  {
   "cell_type": "code",
   "execution_count": 9,
   "id": "4e999763-d38d-4c82-b8ab-7f8036ba0f09",
   "metadata": {},
   "outputs": [],
   "source": [
    "# 동일한 인덱스가 양쪽에 모두 존재하여 서로 대응되더라도 어느 한 쪽의 데이터 값이 NaN 인 경우가 있음\n",
    "# 이때도 연산의 대상인 데이터가 존재하지 않기 때문에 결과는 NaN"
   ]
  },
  {
   "cell_type": "code",
   "execution_count": 13,
   "id": "0898df52-0f08-41c6-ba08-2aa6d9cbe645",
   "metadata": {},
   "outputs": [
    {
     "name": "stdout",
     "output_type": "stream",
     "text": [
      "국어     NaN\n",
      "영어    80.0\n",
      "수학    90.0\n",
      "dtype: float64\n",
      "수학    80\n",
      "국어    90\n",
      "dtype: int64\n",
      "<class 'pandas.core.series.Series'>\n",
      "\n",
      "\n",
      "     국어        수학  영어\n",
      "덧셈  NaN   170.000 NaN\n",
      "뺄셈  NaN    10.000 NaN\n",
      "곱셈  NaN  7200.000 NaN\n",
      "나눗셈 NaN     1.125 NaN\n"
     ]
    }
   ],
   "source": [
    "import pandas as pd\n",
    "import numpy as np\n",
    "\n",
    "student1 = pd.Series({'국어':np.nan, '영어':80, '수학':90})\n",
    "student2 = pd.Series({'수학':80, '국어':90})\n",
    "\n",
    "print(student1)\n",
    "print(student2)\n",
    "\n",
    "# 두 학생의 과목별 점수로 사칙연산 수행(시리즈 vs 시리즈)\n",
    "addition = student1 + student2\n",
    "subtraction = student1 - student2\n",
    "multiplication = student1 * student2\n",
    "division = student1 / student2\n",
    "print(type(division))\n",
    "print('\\n')\n",
    "\n",
    "# 사칙연산 결과를 데이터프레임으로 합치기 시리즈 -> 데이터 프레임\n",
    "result = pd.DataFrame([addition, subtraction, multiplication, division],\n",
    "                      index = ['덧셈','뺄셈','곱셈','나눗셈'])\n",
    "print(result)"
   ]
  },
  {
   "cell_type": "code",
   "execution_count": null,
   "id": "d7b77a3c-3d43-4059-993f-d014ec0b839e",
   "metadata": {},
   "outputs": [],
   "source": []
  }
 ],
 "metadata": {
  "kernelspec": {
   "display_name": "Python 3 (ipykernel)",
   "language": "python",
   "name": "python3"
  },
  "language_info": {
   "codemirror_mode": {
    "name": "ipython",
    "version": 3
   },
   "file_extension": ".py",
   "mimetype": "text/x-python",
   "name": "python",
   "nbconvert_exporter": "python",
   "pygments_lexer": "ipython3",
   "version": "3.12.4"
  }
 },
 "nbformat": 4,
 "nbformat_minor": 5
}
